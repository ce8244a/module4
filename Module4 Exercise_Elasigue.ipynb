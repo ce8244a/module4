{
 "cells": [
  {
   "cell_type": "markdown",
   "metadata": {},
   "source": [
    "### Module 4 Exercise"
   ]
  },
  {
   "cell_type": "markdown",
   "metadata": {},
   "source": [
    "1. How many occurences of \"row\" is in \"Row, row, row your boat. Gently down the stream. Merrily, merrily, merrily, merrily. Life is but a dream. Row, row, row your boat. Gently up the creek.\" "
   ]
  },
  {
   "cell_type": "code",
   "execution_count": 1,
   "metadata": {},
   "outputs": [
    {
     "name": "stdout",
     "output_type": "stream",
     "text": [
      "row appears this many times:  6\n"
     ]
    }
   ],
   "source": [
    "row1 = \"Row, row, row your boat. Gently down the stream. Merrily, merrily,merrily, merrily. Life is but a dream. Row, row, row your boat. Gently up the creek.\"\n",
    "row1 = row1.lower() #makes all letters lower case\n",
    "print('row appears this many times: ', row1.count('row'))"
   ]
  },
  {
   "cell_type": "code",
   "execution_count": 2,
   "metadata": {},
   "outputs": [
    {
     "name": "stdout",
     "output_type": "stream",
     "text": [
      "row appears this many times:  4\n",
      "Row appears this many times:  2\n"
     ]
    }
   ],
   "source": [
    "row = \"Row, row, row your boat. Gently down the stream. Merrily, merrily,merrily, merrily. Life is but a dream. Row, row, row your boat. Gently up the creek.\"\n",
    "\n",
    "print('row appears this many times: ', row.count('row')) #counts the number of rows - lower case\n",
    "print('Row appears this many times: ', row.count('Row')) #counts the number of rows - upper case"
   ]
  },
  {
   "cell_type": "markdown",
   "metadata": {},
   "source": [
    "2. Ask a user for a name, color, and an animal.  <br>\n",
    "Then using string format method per each line, show following:<br>\n",
    "<b><i>name</i></b> had a little <b><i>animal</i></b>. <br>\n",
    "It was <b><i>color</i></b> as snow. <br>\n",
    "And everywhere that <b><i>name</i></b> went, the <b><i>animal</i></b> was sure to go."
   ]
  },
  {
   "cell_type": "code",
   "execution_count": 3,
   "metadata": {},
   "outputs": [
    {
     "name": "stdout",
     "output_type": "stream",
     "text": [
      "Enter a name:\n",
      ">mary\n",
      "Enter a color:\n",
      ">white\n",
      "Enter an animal:\n",
      ">lamb\n",
      "Mary had a little lamb\n",
      "It was white as snow.\n",
      "And everywhere that Mary went, the lamb was sure to go.\n"
     ]
    }
   ],
   "source": [
    "prompt = \">\"\n",
    "print(\"Enter a name:\")\n",
    "name = (input(prompt)).capitalize() # changes the input to capitalize the first letter of name\n",
    "\n",
    "print(\"Enter a color:\")\n",
    "color = (input(prompt))\n",
    "\n",
    "print(\"Enter an animal:\")\n",
    "animal = (input(prompt))\n",
    "\n",
    "print(f\"{name} had a little {animal}\")\n",
    "\n",
    "print(f\"It was {color} as snow.\")\n",
    "print(f\"And everywhere that {name} went, the {animal} was sure to go.\")\n"
   ]
  },
  {
   "cell_type": "markdown",
   "metadata": {},
   "source": [
    "3. Print 3.14159 in a scientific number notation "
   ]
  },
  {
   "cell_type": "code",
   "execution_count": 4,
   "metadata": {},
   "outputs": [
    {
     "name": "stdout",
     "output_type": "stream",
     "text": [
      "3.141590e+00\n"
     ]
    }
   ],
   "source": [
    "x = 3.14159\n",
    "print(f\"{x :e}\")"
   ]
  },
  {
   "cell_type": "markdown",
   "metadata": {},
   "source": [
    "4. Print 3.1559 in 3 decimal places"
   ]
  },
  {
   "cell_type": "code",
   "execution_count": 5,
   "metadata": {},
   "outputs": [
    {
     "name": "stdout",
     "output_type": "stream",
     "text": [
      "3.155900e+00\n"
     ]
    }
   ],
   "source": [
    "x =  3.1559\n",
    "print(f\"{x :3e}\")"
   ]
  },
  {
   "cell_type": "markdown",
   "metadata": {},
   "source": [
    "5. Print 1589.92341 in a scientific number notation to the power of 3"
   ]
  },
  {
   "cell_type": "code",
   "execution_count": 6,
   "metadata": {},
   "outputs": [
    {
     "name": "stdout",
     "output_type": "stream",
     "text": [
      "1.590e+03\n"
     ]
    }
   ],
   "source": [
    "print(\"{:.3e}\".format(1589.92341))"
   ]
  },
  {
   "cell_type": "markdown",
   "metadata": {},
   "source": [
    "6. Convert 39 to a binary number using floor division and mod operators. Then, compare your answer using bin() and int() functions."
   ]
  },
  {
   "cell_type": "code",
   "execution_count": 7,
   "metadata": {},
   "outputs": [
    {
     "name": "stdout",
     "output_type": "stream",
     "text": [
      "19\n",
      "9\n",
      "4\n",
      "2\n",
      "1\n",
      "0\n"
     ]
    }
   ],
   "source": [
    "#floor divison\n",
    "print(39 // 2)\n",
    "print(19 // 2)\n",
    "print(9 // 2)\n",
    "print(4 // 2)\n",
    "print(2 // 2)\n",
    "print(1 // 2)"
   ]
  },
  {
   "cell_type": "code",
   "execution_count": 8,
   "metadata": {},
   "outputs": [
    {
     "name": "stdout",
     "output_type": "stream",
     "text": [
      "1\n",
      "1\n",
      "1\n",
      "0\n",
      "0\n",
      "1\n"
     ]
    }
   ],
   "source": [
    "#mod\n",
    "print(39 % 2)\n",
    "print(19 % 2)\n",
    "print(9 % 2)\n",
    "print(4 % 2)\n",
    "print(2 % 2)\n",
    "print(1 % 2)"
   ]
  },
  {
   "cell_type": "code",
   "execution_count": 9,
   "metadata": {},
   "outputs": [
    {
     "name": "stdout",
     "output_type": "stream",
     "text": [
      "0b100111\n",
      "True\n"
     ]
    }
   ],
   "source": [
    "number = 39\n",
    "print(bin(number))  # 0 at the start denotes binary number\n",
    "print(int('0b100111', 2) == 39)"
   ]
  },
  {
   "cell_type": "markdown",
   "metadata": {},
   "source": [
    "7. Convert 39 to an octal number using floor division and mod operators. Then, compare your answer using oct() and int() functions."
   ]
  },
  {
   "cell_type": "code",
   "execution_count": 10,
   "metadata": {},
   "outputs": [
    {
     "name": "stdout",
     "output_type": "stream",
     "text": [
      "4\n",
      "0\n"
     ]
    }
   ],
   "source": [
    "#floor divison\n",
    "print(39 // 8)\n",
    "print(4 // 8)"
   ]
  },
  {
   "cell_type": "code",
   "execution_count": 11,
   "metadata": {},
   "outputs": [
    {
     "name": "stdout",
     "output_type": "stream",
     "text": [
      "7\n",
      "4\n"
     ]
    }
   ],
   "source": [
    "#mod\n",
    "print(39 % 8)\n",
    "print(4 % 8)\n"
   ]
  },
  {
   "cell_type": "code",
   "execution_count": 12,
   "metadata": {},
   "outputs": [
    {
     "name": "stdout",
     "output_type": "stream",
     "text": [
      "0o47\n",
      "True\n"
     ]
    }
   ],
   "source": [
    "number = 39\n",
    "print(oct(number))  # 0 at the start denotes octal number\n",
    "print(int('0o47', 8) == 39)"
   ]
  },
  {
   "cell_type": "markdown",
   "metadata": {},
   "source": [
    "8. Convert 39 to a hexadecimal number using floor division and mod operators. Then, compare your answer using hex() and int() functions."
   ]
  },
  {
   "cell_type": "code",
   "execution_count": 13,
   "metadata": {},
   "outputs": [
    {
     "name": "stdout",
     "output_type": "stream",
     "text": [
      "2\n",
      "0\n"
     ]
    }
   ],
   "source": [
    "#floor divison\n",
    "print(39 // 16)\n",
    "print(2 // 16)"
   ]
  },
  {
   "cell_type": "code",
   "execution_count": 14,
   "metadata": {},
   "outputs": [
    {
     "name": "stdout",
     "output_type": "stream",
     "text": [
      "7\n",
      "2\n"
     ]
    }
   ],
   "source": [
    "#mod\n",
    "print(39 % 16)\n",
    "print(2 % 16)"
   ]
  },
  {
   "cell_type": "code",
   "execution_count": 15,
   "metadata": {},
   "outputs": [
    {
     "name": "stdout",
     "output_type": "stream",
     "text": [
      "0x27\n",
      "True\n"
     ]
    }
   ],
   "source": [
    "number = 39\n",
    "print(hex(number))  # 0 at the start denotes octal number\n",
    "print(int('0x27', 16) == 39)"
   ]
  },
  {
   "cell_type": "markdown",
   "metadata": {},
   "source": [
    "9. Ask a user for an amount and a tax rate in percentage. Then, display the amount, rate in percentage, calculated tax amount, and the total (amount + tax amount) in one <b>nice</b> formmated print statement."
   ]
  },
  {
   "cell_type": "code",
   "execution_count": 16,
   "metadata": {},
   "outputs": [
    {
     "name": "stdout",
     "output_type": "stream",
     "text": [
      "Enter an amount:\n",
      ">100.50\n",
      "Enter tax rate:\n",
      ">6.5\n",
      "Amount: $100.50 \n",
      "Tax rate: 6.5%\n",
      "Calculated Tax Amount:$6.53\n",
      "Total: $107.03\n"
     ]
    }
   ],
   "source": [
    "prompt = \">\"\n",
    "print(\"Enter an amount:\")\n",
    "amount = float(input(prompt))\n",
    "print(\"Enter tax rate:\")\n",
    "tax_rate = float(input(prompt))\n",
    "\n",
    "calculated_tax_amount = amount * (tax_rate/100)\n",
    "total = amount + calculated_tax_amount\n",
    "\n",
    "\n",
    "print(f\"Amount: ${amount:.2f} \\nTax rate: {tax_rate:.1f}%\\nCalculated Tax Amount:${calculated_tax_amount:.2f}\\nTotal: ${total:.2f}\")"
   ]
  }
 ],
 "metadata": {
  "kernelspec": {
   "display_name": "Python 3",
   "language": "python",
   "name": "python3"
  },
  "language_info": {
   "codemirror_mode": {
    "name": "ipython",
    "version": 3
   },
   "file_extension": ".py",
   "mimetype": "text/x-python",
   "name": "python",
   "nbconvert_exporter": "python",
   "pygments_lexer": "ipython3",
   "version": "3.8.5"
  }
 },
 "nbformat": 4,
 "nbformat_minor": 4
}
